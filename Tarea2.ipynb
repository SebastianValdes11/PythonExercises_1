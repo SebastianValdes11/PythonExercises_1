{
  "nbformat": 4,
  "nbformat_minor": 0,
  "metadata": {
    "colab": {
      "provenance": []
    },
    "kernelspec": {
      "name": "python3",
      "display_name": "Python 3"
    },
    "language_info": {
      "name": "python"
    }
  },
  "cells": [
    {
      "cell_type": "markdown",
      "source": [
        "#**Problema 1 Text Analysis**"
      ],
      "metadata": {
        "id": "84mizCwgrLJx"
      }
    },
    {
      "cell_type": "code",
      "source": [
        "# Define functions for text analysis\n",
        "\n",
        "import re\n",
        "from collections import Counter\n",
        "\n",
        "def read_text_file(filename):\n",
        "    try:\n",
        "        with open(filename, 'r', encoding='utf-8') as file:\n",
        "            text = file.read()\n",
        "        return text\n",
        "    except FileNotFoundError:\n",
        "        print(f\"File '{filename}' not found.\")\n",
        "        return None\n",
        "\n",
        "def count_words(text):\n",
        "    words = re.findall(r'\\w+', text)\n",
        "    return len(words)\n",
        "\n",
        "def count_sentences(text):\n",
        "    sentences = re.split(r'[.!?]', text)\n",
        "    return len(sentences)\n",
        "\n",
        "def count_paragraphs(text):\n",
        "    paragraphs = re.split(r'\\n\\n', text)\n",
        "    return len(paragraphs)\n",
        "\n",
        "def average_word_length(text):\n",
        "    words = re.findall(r'\\w+', text)\n",
        "    total_length = sum(len(word) for word in words)\n",
        "    return total_length / len(words) if len(words) > 0 else 0\n",
        "\n",
        "def most_common_words(text, num_words=10):\n",
        "    words = re.findall(r'\\w+', text)\n",
        "    word_counts = Counter(words)\n",
        "    return word_counts.most_common(num_words)\n",
        "# Enter the path to your text file on Google Drive\n",
        "file_path = '/Problema1.txt'\n",
        "\n",
        "# Read the text file\n",
        "text = read_text_file(file_path)\n",
        "\n",
        "if text:\n",
        "    num_words = count_words(text)\n",
        "    num_sentences = count_sentences(text)\n",
        "    num_paragraphs = count_paragraphs(text)\n",
        "    avg_word_length = average_word_length(text)\n",
        "    common_words = most_common_words(text)\n",
        "\n",
        "    print(f\"Number of words: {num_words}\")\n",
        "    print(f\"Number of sentences: {num_sentences}\")\n",
        "    print(f\"Number of paragraphs: {num_paragraphs}\")\n",
        "    print(f\"Average word length: {avg_word_length:.2f}\")\n",
        "    print(\"Most common words:\")\n",
        "    for word, freq in common_words:\n",
        "        print(f\"{word}: {freq}\")\n"
      ],
      "metadata": {
        "id": "EG3BG2pInrem",
        "colab": {
          "base_uri": "https://localhost:8080/"
        },
        "outputId": "c2ec61c2-516c-4350-ea28-a98bfef0b485"
      },
      "execution_count": 7,
      "outputs": [
        {
          "output_type": "stream",
          "name": "stdout",
          "text": [
            "Number of words: 357\n",
            "Number of sentences: 19\n",
            "Number of paragraphs: 9\n",
            "Average word length: 4.77\n",
            "Most common words:\n",
            "de: 17\n",
            "y: 14\n",
            "un: 12\n",
            "la: 12\n",
            "en: 11\n",
            "Lucas: 10\n",
            "el: 10\n",
            "a: 10\n",
            "que: 8\n",
            "libro: 6\n"
          ]
        }
      ]
    },
    {
      "cell_type": "markdown",
      "source": [
        "#**Problema 2 Hangman Game**"
      ],
      "metadata": {
        "id": "fzzS2zxirUqp"
      }
    },
    {
      "cell_type": "code",
      "source": [
        "import random\n",
        "\n",
        "\n",
        "# List of predefined words\n",
        "word_list = [\"apple\", \"banana\", \"cherry\", \"grape\", \"orange\", \"strawberry\"]\n",
        "\n",
        "\n",
        "def choose_word(word_list):\n",
        "    return random.choice(word_list)\n",
        "\n",
        "\n",
        "def display_word(word, guessed_letters):\n",
        "    display = \"\"\n",
        "    for letter in word:\n",
        "        if letter in guessed_letters:\n",
        "            display += letter\n",
        "        else:\n",
        "            display += \"_\"\n",
        "    return display\n",
        "\n",
        "\n",
        "def hangman():\n",
        "    word_to_guess = choose_word(word_list)\n",
        "    max_attempts = 6  # You can adjust the number of allowed attempts\n",
        "    guessed_letters = []\n",
        "\n",
        "    print(\"Welcome to Hangman!\")\n",
        "\n",
        "    while max_attempts > 0:\n",
        "        print(\"\\nWord:\", display_word(word_to_guess, guessed_letters))\n",
        "        print(\"Guessed letters:\", \", \".join(guessed_letters))\n",
        "        print(f\"Attempts left: {max_attempts}\")\n",
        "\n",
        "        guess = input(\"Guess a letter: \").lower()\n",
        "\n",
        "        if len(guess) != 1 or not guess.isalpha():\n",
        "            print(\"Please enter a single letter.\")\n",
        "            continue\n",
        "\n",
        "        if guess in guessed_letters:\n",
        "            print(\"You've already guessed that letter.\")\n",
        "            continue\n",
        "\n",
        "        guessed_letters.append(guess)\n",
        "\n",
        "        if guess in word_to_guess:\n",
        "            print(\"Good guess!\")\n",
        "            if word_to_guess == display_word(word_to_guess, guessed_letters):\n",
        "                print(f\"Congratulations! You've guessed the word: {word_to_guess}\")\n",
        "                break\n",
        "        else:\n",
        "            print(\"Incorrect guess.\")\n",
        "            max_attempts -= 1\n",
        "    else:\n",
        "        print(\"Game over. The word was:\", word_to_guess)\n",
        "\n",
        "\n",
        "if __name__ == \"__main__\":\n",
        "    hangman()\n"
      ],
      "metadata": {
        "colab": {
          "base_uri": "https://localhost:8080/"
        },
        "id": "wEJr6E75roZj",
        "outputId": "55c8260d-b8a6-4be5-9509-b32547688e2d"
      },
      "execution_count": 8,
      "outputs": [
        {
          "output_type": "stream",
          "name": "stdout",
          "text": [
            "Welcome to Hangman!\n",
            "\n",
            "Word: _____\n",
            "Guessed letters: \n",
            "Attempts left: 6\n",
            "Guess a letter: e\n",
            "Good guess!\n",
            "\n",
            "Word: ____e\n",
            "Guessed letters: e\n",
            "Attempts left: 6\n",
            "Guess a letter: r\n",
            "Good guess!\n",
            "\n",
            "Word: _r__e\n",
            "Guessed letters: e, r\n",
            "Attempts left: 6\n",
            "Guess a letter: n\n",
            "Incorrect guess.\n",
            "\n",
            "Word: _r__e\n",
            "Guessed letters: e, r, n\n",
            "Attempts left: 5\n",
            "Guess a letter: p\n",
            "Good guess!\n",
            "\n",
            "Word: _r_pe\n",
            "Guessed letters: e, r, n, p\n",
            "Attempts left: 5\n",
            "Guess a letter: c\n",
            "Incorrect guess.\n",
            "\n",
            "Word: _r_pe\n",
            "Guessed letters: e, r, n, p, c\n",
            "Attempts left: 4\n",
            "Guess a letter: a\n",
            "Good guess!\n",
            "\n",
            "Word: _rape\n",
            "Guessed letters: e, r, n, p, c, a\n",
            "Attempts left: 4\n",
            "Guess a letter: f\n",
            "Incorrect guess.\n",
            "\n",
            "Word: _rape\n",
            "Guessed letters: e, r, n, p, c, a, f\n",
            "Attempts left: 3\n",
            "Guess a letter: g\n",
            "Good guess!\n",
            "Congratulations! You've guessed the word: grape\n"
          ]
        }
      ]
    },
    {
      "cell_type": "markdown",
      "source": [
        "#**Number Guessing Game**"
      ],
      "metadata": {
        "id": "db7geBFtsizF"
      }
    },
    {
      "cell_type": "code",
      "source": [
        "import random\n",
        "\n",
        "\n",
        "def guess_the_number():\n",
        "    target_number = random.randint(1, 100)\n",
        "    attempts = 0\n",
        "\n",
        "\n",
        "    print(\"Welcome to the Guess the Number game!\")\n",
        "    print(\"I've selected a random number between 1 and 100.\")\n",
        "\n",
        "\n",
        "    while True:\n",
        "        try:\n",
        "            user_guess = int(input(\"Guess the number: \"))\n",
        "        except ValueError:\n",
        "            print(\"Invalid input. Please enter a number between 1 and 100.\")\n",
        "            continue\n",
        "\n",
        "\n",
        "        attempts += 1\n",
        "\n",
        "\n",
        "        if user_guess < 1 or user_guess > 100:\n",
        "            print(\"Please enter a number between 1 and 100.\")\n",
        "        elif user_guess < target_number:\n",
        "            print(\"The number is higher. Try again.\")\n",
        "        elif user_guess > target_number:\n",
        "            print(\"The number is lower. Try again.\")\n",
        "        else:\n",
        "            print(f\"Congratulations! You've guessed the number {target_number} in {attempts} attempts.\")\n",
        "            break\n",
        "\n",
        "\n",
        "if __name__ == \"__main__\":\n",
        "    guess_the_number()\n",
        "\n",
        "\n"
      ],
      "metadata": {
        "colab": {
          "base_uri": "https://localhost:8080/"
        },
        "id": "I1ENNpIMszEU",
        "outputId": "9362dee1-3e88-4540-a646-0e5803489c8d"
      },
      "execution_count": 9,
      "outputs": [
        {
          "output_type": "stream",
          "name": "stdout",
          "text": [
            "Welcome to the Guess the Number game!\n",
            "I've selected a random number between 1 and 100.\n",
            "Guess the number: 53\n",
            "The number is higher. Try again.\n",
            "Guess the number: 76\n",
            "The number is higher. Try again.\n",
            "Guess the number: 89\n",
            "The number is higher. Try again.\n",
            "Guess the number: 93\n",
            "Congratulations! You've guessed the number 93 in 4 attempts.\n"
          ]
        }
      ]
    }
  ]
}