{
  "nbformat": 4,
  "nbformat_minor": 0,
  "metadata": {
    "colab": {
      "provenance": []
    },
    "kernelspec": {
      "name": "python3",
      "display_name": "Python 3"
    },
    "language_info": {
      "name": "python"
    }
  },
  "cells": [
    {
      "cell_type": "code",
      "source": [
        "# Define functions for text analysis\n",
        "\n",
        "import re\n",
        "from collections import Counter\n",
        "\n",
        "def read_text_file(filename):\n",
        "    try:\n",
        "        with open(filename, 'r', encoding='utf-8') as file:\n",
        "            text = file.read()\n",
        "        return text\n",
        "    except FileNotFoundError:\n",
        "        print(f\"File '{filename}' not found.\")\n",
        "        return None\n",
        "\n",
        "def count_words(text):\n",
        "    words = re.findall(r'\\w+', text)\n",
        "    return len(words)\n",
        "\n",
        "def count_sentences(text):\n",
        "    sentences = re.split(r'[.!?]', text)\n",
        "    return len(sentences)\n",
        "\n",
        "def count_paragraphs(text):\n",
        "    paragraphs = re.split(r'\\n\\n', text)\n",
        "    return len(paragraphs)\n",
        "\n",
        "def average_word_length(text):\n",
        "    words = re.findall(r'\\w+', text)\n",
        "    total_length = sum(len(word) for word in words)\n",
        "    return total_length / len(words) if len(words) > 0 else 0\n",
        "\n",
        "def most_common_words(text, num_words=10):\n",
        "    words = re.findall(r'\\w+', text)\n",
        "    word_counts = Counter(words)\n",
        "    return word_counts.most_common(num_words)\n",
        "# Enter the path to your text file on Google Drive\n",
        "file_path = '/Problema1.txt'\n",
        "\n",
        "# Read the text file\n",
        "text = read_text_file(file_path)\n",
        "\n",
        "if text:\n",
        "    num_words = count_words(text)\n",
        "    num_sentences = count_sentences(text)\n",
        "    num_paragraphs = count_paragraphs(text)\n",
        "    avg_word_length = average_word_length(text)\n",
        "    common_words = most_common_words(text)\n",
        "\n",
        "    print(f\"Number of words: {num_words}\")\n",
        "    print(f\"Number of sentences: {num_sentences}\")\n",
        "    print(f\"Number of paragraphs: {num_paragraphs}\")\n",
        "    print(f\"Average word length: {avg_word_length:.2f}\")\n",
        "    print(\"Most common words:\")\n",
        "    for word, freq in common_words:\n",
        "        print(f\"{word}: {freq}\")\n"
      ],
      "metadata": {
        "id": "EG3BG2pInrem",
        "colab": {
          "base_uri": "https://localhost:8080/"
        },
        "outputId": "c2ec61c2-516c-4350-ea28-a98bfef0b485"
      },
      "execution_count": 7,
      "outputs": [
        {
          "output_type": "stream",
          "name": "stdout",
          "text": [
            "Number of words: 357\n",
            "Number of sentences: 19\n",
            "Number of paragraphs: 9\n",
            "Average word length: 4.77\n",
            "Most common words:\n",
            "de: 17\n",
            "y: 14\n",
            "un: 12\n",
            "la: 12\n",
            "en: 11\n",
            "Lucas: 10\n",
            "el: 10\n",
            "a: 10\n",
            "que: 8\n",
            "libro: 6\n"
          ]
        }
      ]
    }
  ]
}