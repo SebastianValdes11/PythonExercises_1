{
  "nbformat": 4,
  "nbformat_minor": 0,
  "metadata": {
    "colab": {
      "provenance": []
    },
    "kernelspec": {
      "name": "python3",
      "display_name": "Python 3"
    },
    "language_info": {
      "name": "python"
    }
  },
  "cells": [
    {
      "cell_type": "code",
      "execution_count": 1,
      "metadata": {
        "colab": {
          "base_uri": "https://localhost:8080/"
        },
        "id": "vFRyc8KAljm6",
        "outputId": "6cca1bb3-794d-4f9a-84d8-7be44e0ad997"
      },
      "outputs": [
        {
          "output_type": "stream",
          "name": "stdout",
          "text": [
            "cola\n"
          ]
        }
      ],
      "source": [
        "print(\"cola\")"
      ]
    }
  ]
}